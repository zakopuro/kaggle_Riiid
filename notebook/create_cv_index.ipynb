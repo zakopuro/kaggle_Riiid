{
 "cells": [
  {
   "cell_type": "code",
   "execution_count": 1,
   "metadata": {},
   "outputs": [],
   "source": [
    "import pandas as pd\n",
    "import random\n",
    "import gc\n",
    "\n",
    "random.seed(1)"
   ]
  },
  {
   "cell_type": "code",
   "execution_count": 2,
   "metadata": {},
   "outputs": [],
   "source": [
    "train = pd.read_feather('../data/input/train.feather')"
   ]
  },
  {
   "cell_type": "code",
   "execution_count": 3,
   "metadata": {},
   "outputs": [
    {
     "data": {
      "text/plain": [
       "(101230332, 10)"
      ]
     },
     "execution_count": 3,
     "metadata": {},
     "output_type": "execute_result"
    }
   ],
   "source": [
    "train.shape"
   ]
  },
  {
   "cell_type": "code",
   "execution_count": 4,
   "metadata": {},
   "outputs": [
    {
     "name": "stdout",
     "output_type": "stream",
     "text": [
      "0.627 0.520\n"
     ]
    }
   ],
   "source": [
    "valid_split1 = train.groupby('user_id').tail(5)\n",
    "train_split1 = train[~train.row_id.isin(valid_split1.row_id)]\n",
    "print(f'{train_split1.answered_correctly.mean():.3f} {valid_split1.answered_correctly.mean():.3f}')"
   ]
  },
  {
   "cell_type": "code",
   "execution_count": 5,
   "metadata": {},
   "outputs": [
    {
     "data": {
      "text/plain": [
       "22"
      ]
     },
     "execution_count": 5,
     "metadata": {},
     "output_type": "execute_result"
    }
   ],
   "source": [
    "del valid_split1, train_split1\n",
    "gc.collect()"
   ]
  },
  {
   "cell_type": "code",
   "execution_count": 6,
   "metadata": {},
   "outputs": [],
   "source": [
    "max_timestamp_u = train[['user_id','timestamp']].groupby(['user_id']).agg(['max']).reset_index()\n",
    "max_timestamp_u.columns = ['user_id', 'max_time_stamp']\n",
    "MAX_TIME_STAMP = max_timestamp_u.max_time_stamp.max()"
   ]
  },
  {
   "cell_type": "code",
   "execution_count": 7,
   "metadata": {},
   "outputs": [],
   "source": [
    "def rand_time(max_time_stamp):\n",
    "    interval = MAX_TIME_STAMP - max_time_stamp\n",
    "    rand_time_stamp = random.randint(0,interval)\n",
    "    return rand_time_stamp\n",
    "\n",
    "max_timestamp_u['rand_time_stamp'] = max_timestamp_u.max_time_stamp.apply(rand_time)\n",
    "train = train.merge(max_timestamp_u, on='user_id', how='left')\n",
    "train['viretual_time_stamp'] = train.timestamp + train['rand_time_stamp']"
   ]
  },
  {
   "cell_type": "code",
   "execution_count": 8,
   "metadata": {},
   "outputs": [
    {
     "data": {
      "text/plain": [
       "35"
      ]
     },
     "execution_count": 8,
     "metadata": {},
     "output_type": "execute_result"
    }
   ],
   "source": [
    "del train['max_time_stamp']\n",
    "del train['rand_time_stamp']\n",
    "del max_timestamp_u\n",
    "gc.collect()"
   ]
  },
  {
   "cell_type": "code",
   "execution_count": 9,
   "metadata": {},
   "outputs": [],
   "source": [
    "train = train.sort_values(['viretual_time_stamp', 'row_id'])"
   ]
  },
  {
   "cell_type": "code",
   "execution_count": 10,
   "metadata": {},
   "outputs": [
    {
     "data": {
      "text/html": [
       "<div>\n",
       "<style scoped>\n",
       "    .dataframe tbody tr th:only-of-type {\n",
       "        vertical-align: middle;\n",
       "    }\n",
       "\n",
       "    .dataframe tbody tr th {\n",
       "        vertical-align: top;\n",
       "    }\n",
       "\n",
       "    .dataframe thead th {\n",
       "        text-align: right;\n",
       "    }\n",
       "</style>\n",
       "<table border=\"1\" class=\"dataframe\">\n",
       "  <thead>\n",
       "    <tr style=\"text-align: right;\">\n",
       "      <th></th>\n",
       "      <th>row_id</th>\n",
       "      <th>timestamp</th>\n",
       "      <th>user_id</th>\n",
       "      <th>content_id</th>\n",
       "      <th>content_type_id</th>\n",
       "      <th>task_container_id</th>\n",
       "      <th>user_answer</th>\n",
       "      <th>answered_correctly</th>\n",
       "      <th>prior_question_elapsed_time</th>\n",
       "      <th>prior_question_had_explanation</th>\n",
       "      <th>viretual_time_stamp</th>\n",
       "    </tr>\n",
       "  </thead>\n",
       "  <tbody>\n",
       "    <tr>\n",
       "      <th>32933156</th>\n",
       "      <td>32933156</td>\n",
       "      <td>0</td>\n",
       "      <td>705741139</td>\n",
       "      <td>128</td>\n",
       "      <td>0</td>\n",
       "      <td>0</td>\n",
       "      <td>0</td>\n",
       "      <td>1</td>\n",
       "      <td>NaN</td>\n",
       "      <td>None</td>\n",
       "      <td>0</td>\n",
       "    </tr>\n",
       "    <tr>\n",
       "      <th>32933157</th>\n",
       "      <td>32933157</td>\n",
       "      <td>20666</td>\n",
       "      <td>705741139</td>\n",
       "      <td>7860</td>\n",
       "      <td>0</td>\n",
       "      <td>1</td>\n",
       "      <td>0</td>\n",
       "      <td>1</td>\n",
       "      <td>16000.0</td>\n",
       "      <td>False</td>\n",
       "      <td>20666</td>\n",
       "    </tr>\n",
       "    <tr>\n",
       "      <th>32933158</th>\n",
       "      <td>32933158</td>\n",
       "      <td>39172</td>\n",
       "      <td>705741139</td>\n",
       "      <td>7922</td>\n",
       "      <td>0</td>\n",
       "      <td>2</td>\n",
       "      <td>1</td>\n",
       "      <td>1</td>\n",
       "      <td>19000.0</td>\n",
       "      <td>False</td>\n",
       "      <td>39172</td>\n",
       "    </tr>\n",
       "    <tr>\n",
       "      <th>32933159</th>\n",
       "      <td>32933159</td>\n",
       "      <td>58207</td>\n",
       "      <td>705741139</td>\n",
       "      <td>156</td>\n",
       "      <td>0</td>\n",
       "      <td>3</td>\n",
       "      <td>2</td>\n",
       "      <td>1</td>\n",
       "      <td>17000.0</td>\n",
       "      <td>False</td>\n",
       "      <td>58207</td>\n",
       "    </tr>\n",
       "    <tr>\n",
       "      <th>32933160</th>\n",
       "      <td>32933160</td>\n",
       "      <td>75779</td>\n",
       "      <td>705741139</td>\n",
       "      <td>51</td>\n",
       "      <td>0</td>\n",
       "      <td>4</td>\n",
       "      <td>0</td>\n",
       "      <td>1</td>\n",
       "      <td>17000.0</td>\n",
       "      <td>False</td>\n",
       "      <td>75779</td>\n",
       "    </tr>\n",
       "  </tbody>\n",
       "</table>\n",
       "</div>"
      ],
      "text/plain": [
       "            row_id  timestamp    user_id  content_id  content_type_id  \\\n",
       "32933156  32933156          0  705741139         128                0   \n",
       "32933157  32933157      20666  705741139        7860                0   \n",
       "32933158  32933158      39172  705741139        7922                0   \n",
       "32933159  32933159      58207  705741139         156                0   \n",
       "32933160  32933160      75779  705741139          51                0   \n",
       "\n",
       "          task_container_id  user_answer  answered_correctly  \\\n",
       "32933156                  0            0                   1   \n",
       "32933157                  1            0                   1   \n",
       "32933158                  2            1                   1   \n",
       "32933159                  3            2                   1   \n",
       "32933160                  4            0                   1   \n",
       "\n",
       "          prior_question_elapsed_time prior_question_had_explanation  \\\n",
       "32933156                          NaN                           None   \n",
       "32933157                      16000.0                          False   \n",
       "32933158                      19000.0                          False   \n",
       "32933159                      17000.0                          False   \n",
       "32933160                      17000.0                          False   \n",
       "\n",
       "          viretual_time_stamp  \n",
       "32933156                    0  \n",
       "32933157                20666  \n",
       "32933158                39172  \n",
       "32933159                58207  \n",
       "32933160                75779  "
      ]
     },
     "execution_count": 10,
     "metadata": {},
     "output_type": "execute_result"
    }
   ],
   "source": [
    "train.head()"
   ]
  },
  {
   "cell_type": "code",
   "execution_count": 11,
   "metadata": {},
   "outputs": [
    {
     "name": "stdout",
     "output_type": "stream",
     "text": [
      "cv0 0.626 0.611 15119 0\n",
      "train:(98730332, 11) valid:(2500000, 11)\n",
      "cv1 0.626 0.619 11198 0\n",
      "train:(96230332, 11) valid:(2500000, 11)\n",
      "cv2 0.626 0.615 10159 0\n",
      "train:(93730332, 11) valid:(2500000, 11)\n",
      "cv3 0.626 0.619 9687 3\n",
      "train:(91230332, 11) valid:(2500000, 11)\n",
      "cv4 0.626 0.622 9184 0\n",
      "train:(88730332, 11) valid:(2500000, 11)\n"
     ]
    }
   ],
   "source": [
    "val_size = 2500000\n",
    "# val_size = 25000000\n",
    "\n",
    "for cv in range(5):\n",
    "    valid = train[-val_size:]\n",
    "    train = train[:-val_size]\n",
    "    # check new users and new contents\n",
    "    new_users = len(valid[~valid.user_id.isin(train.user_id)].user_id.unique())\n",
    "    valid_question = valid[valid.content_type_id == 0]\n",
    "    train_question = train[train.content_type_id == 0]\n",
    "    new_contents = len(valid_question[~valid_question.content_id.isin(train_question.content_id)].content_id.unique())    \n",
    "    print(f'cv{cv} {train.answered_correctly.mean():.3f} {valid.answered_correctly.mean():.3f} {new_users} {new_contents}')\n",
    "    print(f'train:{train.shape} valid:{valid.shape}')\n",
    "    valid.reset_index(drop=True).to_feather(f'../data/train_valid/cv{cv+1}_valid_all.feather')\n",
    "    train.reset_index(drop=True).to_feather(f'../data/train_valid/cv{cv+1}_train_all.feather')"
   ]
  },
  {
   "cell_type": "code",
   "execution_count": 32,
   "metadata": {},
   "outputs": [
    {
     "name": "stdout",
     "output_type": "stream",
     "text": [
      "cv0 0.626 0.611 15119 0\n",
      "train:(98730332, 11) valid:(2500000, 11)\n",
      "cv1 0.626 0.619 11198 0\n",
      "train:(96230332, 11) valid:(2500000, 11)\n",
      "cv2 0.626 0.615 10159 0\n",
      "train:(93730332, 11) valid:(2500000, 11)\n",
      "cv3 0.626 0.619 9687 3\n",
      "train:(91230332, 11) valid:(2500000, 11)\n",
      "cv4 0.626 0.622 9184 0\n",
      "train:(88730332, 11) valid:(2500000, 11)\n",
      "cv5 0.626 0.623 9030 0\n",
      "train:(86230332, 11) valid:(2500000, 11)\n",
      "cv6 0.627 0.620 8923 0\n",
      "train:(83730332, 11) valid:(2500000, 11)\n",
      "cv7 0.627 0.621 8963 0\n",
      "train:(81230332, 11) valid:(2500000, 11)\n",
      "cv8 0.627 0.624 8652 0\n",
      "train:(78730332, 11) valid:(2500000, 11)\n",
      "cv9 0.627 0.623 8725 0\n",
      "train:(76230332, 11) valid:(2500000, 11)\n",
      "cv10 0.627 0.626 8758 0\n",
      "train:(73730332, 11) valid:(2500000, 11)\n",
      "cv11 0.627 0.627 8398 0\n",
      "train:(71230332, 11) valid:(2500000, 11)\n",
      "cv12 0.627 0.630 8555 0\n",
      "train:(68730332, 11) valid:(2500000, 11)\n",
      "cv13 0.627 0.627 8094 0\n",
      "train:(66230332, 11) valid:(2500000, 11)\n",
      "cv14 0.627 0.628 8222 1\n",
      "train:(63730332, 11) valid:(2500000, 11)\n",
      "cv15 0.627 0.630 8464 0\n",
      "train:(61230332, 11) valid:(2500000, 11)\n",
      "cv16 0.627 0.630 8670 0\n",
      "train:(58730332, 11) valid:(2500000, 11)\n",
      "cv17 0.626 0.631 8390 0\n",
      "train:(56230332, 11) valid:(2500000, 11)\n",
      "cv18 0.626 0.628 8375 0\n",
      "train:(53730332, 11) valid:(2500000, 11)\n",
      "cv19 0.626 0.628 8346 0\n",
      "train:(51230332, 11) valid:(2500000, 11)\n",
      "cv20 0.626 0.630 8597 0\n",
      "train:(48730332, 11) valid:(2500000, 11)\n",
      "cv21 0.626 0.627 8451 0\n",
      "train:(46230332, 11) valid:(2500000, 11)\n",
      "cv22 0.626 0.630 8461 0\n",
      "train:(43730332, 11) valid:(2500000, 11)\n",
      "cv23 0.625 0.631 8555 0\n",
      "train:(41230332, 11) valid:(2500000, 11)\n",
      "cv24 0.625 0.630 8589 0\n",
      "train:(38730332, 11) valid:(2500000, 11)\n",
      "cv25 0.625 0.630 8687 0\n",
      "train:(36230332, 11) valid:(2500000, 11)\n",
      "cv26 0.625 0.628 9049 0\n",
      "train:(33730332, 11) valid:(2500000, 11)\n",
      "cv27 0.624 0.630 8751 0\n",
      "train:(31230332, 11) valid:(2500000, 11)\n",
      "cv28 0.624 0.628 8945 0\n",
      "train:(28730332, 11) valid:(2500000, 11)\n",
      "cv29 0.623 0.630 9392 0\n",
      "train:(26230332, 11) valid:(2500000, 11)\n",
      "cv30 0.623 0.628 9185 1\n",
      "train:(23730332, 11) valid:(2500000, 11)\n",
      "cv31 0.622 0.628 9514 0\n",
      "train:(21230332, 11) valid:(2500000, 11)\n",
      "cv32 0.622 0.625 9647 0\n",
      "train:(18730332, 11) valid:(2500000, 11)\n",
      "cv33 0.621 0.628 9808 1\n",
      "train:(16230332, 11) valid:(2500000, 11)\n",
      "cv34 0.620 0.627 10235 0\n",
      "train:(13730332, 11) valid:(2500000, 11)\n",
      "cv35 0.618 0.627 10344 0\n",
      "train:(11230332, 11) valid:(2500000, 11)\n",
      "cv36 0.617 0.622 11179 1\n",
      "train:(8730332, 11) valid:(2500000, 11)\n",
      "cv37 0.614 0.624 11521 3\n",
      "train:(6230332, 11) valid:(2500000, 11)\n",
      "cv38 0.608 0.622 12335 46\n",
      "train:(3730332, 11) valid:(2500000, 11)\n",
      "cv39 0.593 0.615 15256 425\n",
      "train:(1230332, 11) valid:(2500000, 11)\n"
     ]
    }
   ],
   "source": [
    "val_size = 2500000\n",
    "# val_size = 25000000\n",
    "\n",
    "for cv in range(40):\n",
    "    valid = train[-val_size:]\n",
    "    train = train[:-val_size]\n",
    "    # check new users and new contents\n",
    "    new_users = len(valid[~valid.user_id.isin(train.user_id)].user_id.unique())\n",
    "    valid_question = valid[valid.content_type_id == 0]\n",
    "    train_question = train[train.content_type_id == 0]\n",
    "    new_contents = len(valid_question[~valid_question.content_id.isin(train_question.content_id)].content_id.unique())    \n",
    "    print(f'cv{cv} {train.answered_correctly.mean():.3f} {valid.answered_correctly.mean():.3f} {new_users} {new_contents}')\n",
    "    print(f'train:{train.shape} valid:{valid.shape}')\n",
    "    valid[['row_id']].reset_index(drop=True).to_feather(f'../data/train_valid/cv{cv+1}_valid.feather')\n",
    "    train[['row_id']].reset_index(drop=True).to_feather(f'../data/train_valid/cv{cv+1}_train.feather')"
   ]
  },
  {
   "cell_type": "code",
   "execution_count": 31,
   "metadata": {},
   "outputs": [
    {
     "data": {
      "text/plain": [
       "3730332"
      ]
     },
     "execution_count": 31,
     "metadata": {},
     "output_type": "execute_result"
    }
   ],
   "source": [
    "101230332 - (2500000*39)"
   ]
  },
  {
   "cell_type": "code",
   "execution_count": 25,
   "metadata": {},
   "outputs": [
    {
     "data": {
      "text/plain": [
       "4049213.2800000003"
      ]
     },
     "execution_count": 25,
     "metadata": {},
     "output_type": "execute_result"
    }
   ],
   "source": [
    "101230332 * 0.04"
   ]
  },
  {
   "cell_type": "code",
   "execution_count": null,
   "metadata": {},
   "outputs": [],
   "source": [
    "6230332\n",
    "6230332\n",
    "2500000\n",
    "38730332"
   ]
  }
 ],
 "metadata": {
  "kernelspec": {
   "display_name": "Python 3.7.7 64-bit ('py37': conda)",
   "language": "python",
   "name": "python37764bitpy37condac438fa9116eb4f54846f41f6ddae733f"
  },
  "language_info": {
   "codemirror_mode": {
    "name": "ipython",
    "version": 3
   },
   "file_extension": ".py",
   "mimetype": "text/x-python",
   "name": "python",
   "nbconvert_exporter": "python",
   "pygments_lexer": "ipython3",
   "version": "3.7.7"
  }
 },
 "nbformat": 4,
 "nbformat_minor": 4
}
