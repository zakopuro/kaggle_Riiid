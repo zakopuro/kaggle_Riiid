{
 "cells": [
  {
   "cell_type": "code",
   "execution_count": 1,
   "metadata": {},
   "outputs": [],
   "source": [
    "class UserFeats(object):\n",
    "\n",
    "    def __init__(\n",
    "        self\n",
    "    ):\n",
    "        self._ans_cnt, self._ans_corr_cnt = 0, 0\n",
    "\n",
    "    def get_ans_cnt(self):\n",
    "        return self._ans_cnt\n",
    "\n",
    "    def get_ans_corr_cnt(self):\n",
    "        return self._ans_corr_cnt\n",
    "\n",
    "    def incr_ans_cnt(self, val):\n",
    "        self._ans_cnt += val\n",
    "\n",
    "    def incr_ans_corr_cnt(self, val):\n",
    "        self._ans_corr_cnt += val"
   ]
  },
  {
   "cell_type": "code",
   "execution_count": 27,
   "metadata": {},
   "outputs": [],
   "source": [
    "class QuesFeats(object):\n",
    "    def __init__(self):\n",
    "        self.acc = 1\n",
    "        self.cnt = 2\n",
    "        self.corr_cnt =1\n",
    "#         self.acc = feats_tuple[self.FEAT_KEY_TO_INDEX[self.ACC]]\n",
    "#         self.cnt = feats_tuple[self.FEAT_KEY_TO_INDEX[self.CNT]]\n",
    "#         self.corr_cnt = feats_tuple[self.FEAT_KEY_TO_INDEX[self.CORR_CNT]]"
   ]
  },
  {
   "cell_type": "code",
   "execution_count": 4,
   "metadata": {},
   "outputs": [],
   "source": [
    "user_dic = {}\n",
    "user = UserFeats()"
   ]
  },
  {
   "cell_type": "code",
   "execution_count": 13,
   "metadata": {},
   "outputs": [],
   "source": [
    "user.incr_ans_cnt(1)"
   ]
  },
  {
   "cell_type": "code",
   "execution_count": 22,
   "metadata": {},
   "outputs": [],
   "source": [
    "user.incr_ans_corr_cnt(1)"
   ]
  },
  {
   "cell_type": "code",
   "execution_count": 7,
   "metadata": {},
   "outputs": [],
   "source": [
    "user_dic[123] = user"
   ]
  },
  {
   "cell_type": "code",
   "execution_count": 14,
   "metadata": {},
   "outputs": [
    {
     "data": {
      "text/plain": [
       "2"
      ]
     },
     "execution_count": 14,
     "metadata": {},
     "output_type": "execute_result"
    }
   ],
   "source": [
    "user_dic[123].get_ans_cnt()"
   ]
  },
  {
   "cell_type": "code",
   "execution_count": 29,
   "metadata": {},
   "outputs": [],
   "source": [
    "qs = QuesFeats()"
   ]
  },
  {
   "cell_type": "code",
   "execution_count": 30,
   "metadata": {},
   "outputs": [],
   "source": [
    "import pandas as pd\n",
    "train = pd.read_feather('../data/input/train.feather')"
   ]
  },
  {
   "cell_type": "code",
   "execution_count": null,
   "metadata": {},
   "outputs": [],
   "source": []
  },
  {
   "cell_type": "code",
   "execution_count": 71,
   "metadata": {},
   "outputs": [],
   "source": [
    "name_to_extract_fn = {\n",
    "    \"user_ans_cnt\": lambda u_feats, q_feats, row, cache: u_feats.get_ans_cnt(),\n",
    "    \"user_ans_corr_cnt\": lambda u_feats, q_feats, row, cache: u_feats.get_ans_corr_cnt(),\n",
    "    \"ques_acc\": lambda u_feats, q_feats, row, cache: q_feats.acc,\n",
    "    \"ques_cnt\": lambda u_feats, q_feats, row, cache: q_feats.cnt,\n",
    "    \"ques_corr_cnt\": lambda u_feats, q_feats, row, cache: q_feats.corr_cnt,\n",
    "}"
   ]
  },
  {
   "cell_type": "code",
   "execution_count": 73,
   "metadata": {},
   "outputs": [],
   "source": [
    "feat_names = ['user_ans_cnt','user_ans_corr_cnt','ques_acc','ques_cnt','ques_corr_cnt']\n",
    "\n",
    "feat_extract_fns = [name_to_extract_fn[name] for name in feat_names]"
   ]
  },
  {
   "cell_type": "code",
   "execution_count": 68,
   "metadata": {},
   "outputs": [
    {
     "ename": "SyntaxError",
     "evalue": "invalid syntax (<ipython-input-68-8d034ef27cdd>, line 1)",
     "output_type": "error",
     "traceback": [
      "\u001b[0;36m  File \u001b[0;32m\"<ipython-input-68-8d034ef27cdd>\"\u001b[0;36m, line \u001b[0;32m1\u001b[0m\n\u001b[0;31m    [\"ques_acc\": lambda u_feats, q_feats, row, cache: q_feats.acc]\u001b[0m\n\u001b[0m               ^\u001b[0m\n\u001b[0;31mSyntaxError\u001b[0m\u001b[0;31m:\u001b[0m invalid syntax\n"
     ]
    }
   ],
   "source": [
    "[\"ques_acc\": lambda u_feats, q_feats, row, cache: q_feats.acc]"
   ]
  },
  {
   "cell_type": "code",
   "execution_count": 53,
   "metadata": {},
   "outputs": [],
   "source": [
    "for i,row in train[:90].iterrows():\n",
    "    row"
   ]
  },
  {
   "cell_type": "code",
   "execution_count": 54,
   "metadata": {},
   "outputs": [
    {
     "data": {
      "text/plain": [
       "row_id                                89\n",
       "timestamp                         653762\n",
       "user_id                             2746\n",
       "content_id                          6808\n",
       "content_type_id                        1\n",
       "task_container_id                     14\n",
       "user_answer                           -1\n",
       "answered_correctly                    -1\n",
       "prior_question_elapsed_time          NaN\n",
       "prior_question_had_explanation     False\n",
       "Name: 89, dtype: object"
      ]
     },
     "execution_count": 54,
     "metadata": {},
     "output_type": "execute_result"
    }
   ],
   "source": [
    "row"
   ]
  },
  {
   "cell_type": "code",
   "execution_count": 70,
   "metadata": {},
   "outputs": [
    {
     "ename": "NameError",
     "evalue": "name 'is_valid' is not defined",
     "output_type": "error",
     "traceback": [
      "\u001b[0;31m---------------------------------------------------------------------------\u001b[0m",
      "\u001b[0;31mNameError\u001b[0m                                 Traceback (most recent call last)",
      "\u001b[0;32m<ipython-input-70-2eda9179ab49>\u001b[0m in \u001b[0;36m<module>\u001b[0;34m\u001b[0m\n\u001b[1;32m      2\u001b[0m \u001b[0mvv\u001b[0m \u001b[0;34m=\u001b[0m \u001b[0;34m[\u001b[0m\u001b[0;34m]\u001b[0m\u001b[0;34m\u001b[0m\u001b[0;34m\u001b[0m\u001b[0m\n\u001b[1;32m      3\u001b[0m \u001b[0;34m\u001b[0m\u001b[0m\n\u001b[0;32m----> 4\u001b[0;31m \u001b[0mvv\u001b[0m\u001b[0;34m.\u001b[0m\u001b[0mappend\u001b[0m\u001b[0;34m(\u001b[0m\u001b[0;34m[\u001b[0m\u001b[0mfn\u001b[0m\u001b[0;34m(\u001b[0m\u001b[0muser\u001b[0m\u001b[0;34m,\u001b[0m\u001b[0mqs\u001b[0m\u001b[0;34m,\u001b[0m\u001b[0mrow\u001b[0m\u001b[0;34m,\u001b[0m\u001b[0mqs\u001b[0m\u001b[0;34m)\u001b[0m \u001b[0;32mfor\u001b[0m \u001b[0mfn\u001b[0m \u001b[0;32min\u001b[0m \u001b[0mfeat_extract_fns\u001b[0m\u001b[0;34m]\u001b[0m\u001b[0;34m)\u001b[0m\u001b[0;34m\u001b[0m\u001b[0;34m\u001b[0m\u001b[0m\n\u001b[0m",
      "\u001b[0;32m<ipython-input-70-2eda9179ab49>\u001b[0m in \u001b[0;36m<listcomp>\u001b[0;34m(.0)\u001b[0m\n\u001b[1;32m      2\u001b[0m \u001b[0mvv\u001b[0m \u001b[0;34m=\u001b[0m \u001b[0;34m[\u001b[0m\u001b[0;34m]\u001b[0m\u001b[0;34m\u001b[0m\u001b[0;34m\u001b[0m\u001b[0m\n\u001b[1;32m      3\u001b[0m \u001b[0;34m\u001b[0m\u001b[0m\n\u001b[0;32m----> 4\u001b[0;31m \u001b[0mvv\u001b[0m\u001b[0;34m.\u001b[0m\u001b[0mappend\u001b[0m\u001b[0;34m(\u001b[0m\u001b[0;34m[\u001b[0m\u001b[0mfn\u001b[0m\u001b[0;34m(\u001b[0m\u001b[0muser\u001b[0m\u001b[0;34m,\u001b[0m\u001b[0mqs\u001b[0m\u001b[0;34m,\u001b[0m\u001b[0mrow\u001b[0m\u001b[0;34m,\u001b[0m\u001b[0mqs\u001b[0m\u001b[0;34m)\u001b[0m \u001b[0;32mfor\u001b[0m \u001b[0mfn\u001b[0m \u001b[0;32min\u001b[0m \u001b[0mfeat_extract_fns\u001b[0m\u001b[0;34m]\u001b[0m\u001b[0;34m)\u001b[0m\u001b[0;34m\u001b[0m\u001b[0;34m\u001b[0m\u001b[0m\n\u001b[0m",
      "\u001b[0;32m<ipython-input-57-4aea03b3d4ef>\u001b[0m in \u001b[0;36m<lambda>\u001b[0;34m(u_feats, q_feats, row, cache)\u001b[0m\n\u001b[1;32m      1\u001b[0m name_to_extract_fn = {\n\u001b[1;32m      2\u001b[0m     \u001b[0;34m\"prior_question_elapsed_time\"\u001b[0m\u001b[0;34m:\u001b[0m \u001b[0;32mlambda\u001b[0m \u001b[0mu_feats\u001b[0m\u001b[0;34m,\u001b[0m \u001b[0mq_feats\u001b[0m\u001b[0;34m,\u001b[0m \u001b[0mrow\u001b[0m\u001b[0;34m,\u001b[0m \u001b[0mcache\u001b[0m\u001b[0;34m:\u001b[0m \u001b[0mrow\u001b[0m\u001b[0;34m[\u001b[0m\u001b[0;34m\"prior_question_elapsed_time\"\u001b[0m\u001b[0;34m]\u001b[0m\u001b[0;34m\u001b[0m\u001b[0;34m\u001b[0m\u001b[0m\n\u001b[0;32m----> 3\u001b[0;31m     \u001b[0;32mif\u001b[0m \u001b[0mis_valid\u001b[0m\u001b[0;34m(\u001b[0m\u001b[0mrow\u001b[0m\u001b[0;34m[\u001b[0m\u001b[0;34m\"prior_question_elapsed_time\"\u001b[0m\u001b[0;34m]\u001b[0m\u001b[0;34m)\u001b[0m\u001b[0;34m\u001b[0m\u001b[0;34m\u001b[0m\u001b[0m\n\u001b[0m\u001b[1;32m      4\u001b[0m     \u001b[0;32melse\u001b[0m \u001b[0mself\u001b[0m\u001b[0;34m.\u001b[0m\u001b[0m_elapsed_time_mean\u001b[0m\u001b[0;34m,\u001b[0m\u001b[0;34m\u001b[0m\u001b[0;34m\u001b[0m\u001b[0m\n\u001b[1;32m      5\u001b[0m     \u001b[0;34m\"prior_question_had_explanation\"\u001b[0m\u001b[0;34m:\u001b[0m \u001b[0;32mlambda\u001b[0m \u001b[0mu_feats\u001b[0m\u001b[0;34m,\u001b[0m \u001b[0mq_feats\u001b[0m\u001b[0;34m,\u001b[0m \u001b[0mrow\u001b[0m\u001b[0;34m,\u001b[0m \u001b[0mcache\u001b[0m\u001b[0;34m:\u001b[0m \u001b[0;36m1\u001b[0m\u001b[0;34m\u001b[0m\u001b[0;34m\u001b[0m\u001b[0m\n",
      "\u001b[0;31mNameError\u001b[0m: name 'is_valid' is not defined"
     ]
    }
   ],
   "source": [
    "# feat_names = ['user_ans_cnt','user_ans_corr_cnt','ques_acc','ques_cnt','ques_corr_cnt']\n",
    "vv = []\n",
    "\n",
    "vv.append([fn(user,qs,row,qs) for fn in feat_extract_fns])"
   ]
  },
  {
   "cell_type": "code",
   "execution_count": 64,
   "metadata": {},
   "outputs": [
    {
     "data": {
      "text/plain": [
       "[[2, 1, 1, 2, 1]]"
      ]
     },
     "execution_count": 64,
     "metadata": {},
     "output_type": "execute_result"
    }
   ],
   "source": [
    "vv"
   ]
  },
  {
   "cell_type": "code",
   "execution_count": null,
   "metadata": {},
   "outputs": [],
   "source": []
  },
  {
   "cell_type": "code",
   "execution_count": null,
   "metadata": {},
   "outputs": [],
   "source": []
  },
  {
   "cell_type": "code",
   "execution_count": 24,
   "metadata": {},
   "outputs": [
    {
     "data": {
      "text/plain": [
       "5"
      ]
     },
     "execution_count": 24,
     "metadata": {},
     "output_type": "execute_result"
    }
   ],
   "source": [
    "len(feat_extract_fns)"
   ]
  },
  {
   "cell_type": "code",
   "execution_count": null,
   "metadata": {},
   "outputs": [],
   "source": []
  },
  {
   "cell_type": "code",
   "execution_count": 19,
   "metadata": {},
   "outputs": [
    {
     "ename": "TypeError",
     "evalue": "'str' object is not callable",
     "output_type": "error",
     "traceback": [
      "\u001b[0;31m---------------------------------------------------------------------------\u001b[0m",
      "\u001b[0;31mTypeError\u001b[0m                                 Traceback (most recent call last)",
      "\u001b[0;32m<ipython-input-19-6c734ebb8368>\u001b[0m in \u001b[0;36m<module>\u001b[0;34m\u001b[0m\n\u001b[0;32m----> 1\u001b[0;31m \u001b[0;34m[\u001b[0m\u001b[0mfn\u001b[0m\u001b[0;34m(\u001b[0m\u001b[0;34m)\u001b[0m \u001b[0;32mfor\u001b[0m \u001b[0mfn\u001b[0m \u001b[0;32min\u001b[0m \u001b[0mname_to_extract_fn\u001b[0m\u001b[0;34m]\u001b[0m\u001b[0;34m\u001b[0m\u001b[0;34m\u001b[0m\u001b[0m\n\u001b[0m",
      "\u001b[0;32m<ipython-input-19-6c734ebb8368>\u001b[0m in \u001b[0;36m<listcomp>\u001b[0;34m(.0)\u001b[0m\n\u001b[0;32m----> 1\u001b[0;31m \u001b[0;34m[\u001b[0m\u001b[0mfn\u001b[0m\u001b[0;34m(\u001b[0m\u001b[0;34m)\u001b[0m \u001b[0;32mfor\u001b[0m \u001b[0mfn\u001b[0m \u001b[0;32min\u001b[0m \u001b[0mname_to_extract_fn\u001b[0m\u001b[0;34m]\u001b[0m\u001b[0;34m\u001b[0m\u001b[0;34m\u001b[0m\u001b[0m\n\u001b[0m",
      "\u001b[0;31mTypeError\u001b[0m: 'str' object is not callable"
     ]
    }
   ],
   "source": [
    "[fn() for fn in name_to_extract_fn]"
   ]
  },
  {
   "cell_type": "code",
   "execution_count": null,
   "metadata": {},
   "outputs": [],
   "source": []
  },
  {
   "cell_type": "code",
   "execution_count": null,
   "metadata": {},
   "outputs": [],
   "source": [
    "class FeatureEngineer(object):\n",
    "    def __init__(self, user_feats, ques_feats, elapsed_time_mean, feat_names):\n",
    "        self._user_feats = user_feats\n",
    "        self._ques_feats = ques_feats\n",
    "        self._elapsed_time_mean = elapsed_time_mean\n",
    "        self._init_feat_extact_fns(feat_names)\n",
    "\n",
    "    def _init_feat_extact_fns(self):\n",
    "        name_to_extract_fn = {\n",
    "            \"prior_question_elapsed_time\": lambda u_feats, q_feats, row, cache: row[\n",
    "                \"prior_question_elapsed_time\"\n",
    "            ]\n",
    "            if is_valid(row[\"prior_question_elapsed_time\"])\n",
    "            else self._elapsed_time_mean,\n",
    "            \"prior_question_had_explanation\": lambda u_feats, q_feats, row, cache: 1\n",
    "            if (row[\"prior_question_had_explanation\"] is True)\n",
    "            or (row[\"prior_question_had_explanation\"] == 1)\n",
    "            else 0,\n",
    "            \"user_ans_cnt\": lambda u_feats, q_feats, row, cache: u_feats.get_ans_cnt(),\n",
    "            \"user_ans_corr_cnt\": lambda u_feats, q_feats, row, cache: u_feats.get_ans_corr_cnt(),\n",
    "            \"ques_acc\": lambda u_feats, q_feats, row, cache: q_feats.acc,\n",
    "            \"ques_cnt\": lambda u_feats, q_feats, row, cache: q_feats.cnt,\n",
    "            \"ques_corr_cnt\": lambda u_feats, q_feats, row, cache: q_feats.corr_cnt,\n",
    "        }\n",
    "        self._feat_extract_fns = [name_to_extract_fn[name] for name in feat_names]\n",
    "\n",
    "\n",
    "    def get_feat_values_and_pre_labels(\n",
    "        self, df: DataFrame, update_per_row: bool = False\n",
    "    ) -> Tuple[np.ndarray, List[int]]:\n",
    "        \"\"\"\n",
    "        Get feature values and previous labels based on test_df\n",
    "        \"\"\"\n",
    "        pre_labels = ... # extract previous labels\n",
    "        # update if necessary\n",
    "        fvs = []\n",
    "        for i, row in df.iterrows():\n",
    "            # skip lecture\n",
    "            u_feats = self._user_feats[row[\"user_id\"]]\n",
    "            q_feats = self._ques_feats[row[\"content_id\"]]\n",
    "            fvs.append(self._get_row_fvs(row, u_feats, q_feats))\n",
    "\n",
    "\n",
    "        return np.array(fvs), pre_labels\n",
    "\n",
    "\n",
    "    def _get_row_fvs(self, row: Series, u_feats: UserFeats, q_feats: QuesFeats) -> List[float]:\n",
    "         cache = ... # extract stats that is used by multiple features\n",
    "         return [\n",
    "            fn(u_feats, q_feats, row, cache) for fn in self._feat_extract_fns\n",
    "        ]"
   ]
  },
  {
   "cell_type": "code",
   "execution_count": null,
   "metadata": {},
   "outputs": [],
   "source": []
  },
  {
   "cell_type": "code",
   "execution_count": null,
   "metadata": {},
   "outputs": [],
   "source": []
  },
  {
   "cell_type": "code",
   "execution_count": null,
   "metadata": {},
   "outputs": [],
   "source": []
  },
  {
   "cell_type": "code",
   "execution_count": null,
   "metadata": {},
   "outputs": [],
   "source": []
  }
 ],
 "metadata": {
  "kernelspec": {
   "display_name": "Python 3.7.7 64-bit ('py37': conda)",
   "language": "python",
   "name": "python37764bitpy37condac438fa9116eb4f54846f41f6ddae733f"
  },
  "language_info": {
   "codemirror_mode": {
    "name": "ipython",
    "version": 3
   },
   "file_extension": ".py",
   "mimetype": "text/x-python",
   "name": "python",
   "nbconvert_exporter": "python",
   "pygments_lexer": "ipython3",
   "version": "3.7.7"
  }
 },
 "nbformat": 4,
 "nbformat_minor": 4
}
