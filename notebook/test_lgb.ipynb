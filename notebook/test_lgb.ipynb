{
 "cells": [
  {
   "cell_type": "code",
   "execution_count": 1,
   "metadata": {},
   "outputs": [],
   "source": [
    "import lightgbm as lgb\n",
    "import pandas as pd\n",
    "import numpy as np\n",
    "import matplotlib.pyplot as plt\n",
    "import seaborn as sns\n",
    "from tqdm import tqdm\n",
    "from  sklearn.model_selection import train_test_split\n",
    "pd.set_option('display.max_columns',None)"
   ]
  },
  {
   "cell_type": "code",
   "execution_count": 2,
   "metadata": {},
   "outputs": [],
   "source": [
    "def _reduce_mem_usage(df, verbose=True):\n",
    "    numerics = ['int16', 'int32', 'int64', 'float16', 'float32', 'float64']\n",
    "    start_mem = df.memory_usage().sum() / 1024**2\n",
    "    for col in df.columns:\n",
    "        col_type = df[col].dtypes\n",
    "        if col_type in numerics:\n",
    "            c_min = df[col].min()\n",
    "            c_max = df[col].max()\n",
    "            if str(col_type)[:3] == 'int':\n",
    "                if c_min > np.iinfo(np.int8).min and c_max < np.iinfo(np.int8).max:\n",
    "                    df[col] = df[col].astype(np.int8)\n",
    "                elif c_min > np.iinfo(np.int16).min and c_max < np.iinfo(np.int16).max:\n",
    "                    df[col] = df[col].astype(np.int16)\n",
    "                elif c_min > np.iinfo(np.int32).min and c_max < np.iinfo(np.int32).max:\n",
    "                    df[col] = df[col].astype(np.int32)\n",
    "                elif c_min > np.iinfo(np.int64).min and c_max < np.iinfo(np.int64).max:\n",
    "                    df[col] = df[col].astype(np.int64)\n",
    "            else:\n",
    "                if c_min > np.finfo(np.float16).min and c_max < np.finfo(np.float16).max:\n",
    "                    df[col] = df[col].astype(np.float16)\n",
    "                elif c_min > np.finfo(np.float32).min and c_max < np.finfo(np.float32).max:\n",
    "                    df[col] = df[col].astype(np.float32)\n",
    "                else:\n",
    "                    df[col] = df[col].astype(np.float64)\n",
    "    end_mem = df.memory_usage().sum() / 1024**2\n",
    "    if verbose: print('Mem. usage decreased to {:5.2f} Mb ({:.1f}% reduction)'.format(end_mem, 100 * (start_mem - end_mem) / start_mem))\n",
    "    return df"
   ]
  },
  {
   "cell_type": "code",
   "execution_count": 3,
   "metadata": {},
   "outputs": [],
   "source": [
    "def _label_encoder(data):\n",
    "    l_data,_ =data.factorize(sort=True)\n",
    "    if l_data.max()>32000:\n",
    "        l_data = l_data.astype('int32')\n",
    "    else:\n",
    "        l_data = l_data.astype('int16')\n",
    "\n",
    "    if data.isnull().sum() > 0:\n",
    "        l_data = np.where(l_data == -1,np.nan,l_data)\n",
    "    return l_data"
   ]
  },
  {
   "cell_type": "code",
   "execution_count": 4,
   "metadata": {},
   "outputs": [
    {
     "name": "stdout",
     "output_type": "stream",
     "text": [
      "Mem. usage decreased to 3378.93 Mb (56.2% reduction)\n"
     ]
    }
   ],
   "source": [
    "train_df = pd.read_feather('../data/input/train.feather')\n",
    "train_df = _reduce_mem_usage(train_df)"
   ]
  },
  {
   "cell_type": "code",
   "execution_count": 5,
   "metadata": {},
   "outputs": [],
   "source": [
    "qs = pd.read_csv('../data/input/questions.csv')\n",
    "lc = pd.read_csv('../data/input/lectures_new.csv')\n",
    "tag = qs[\"tags\"].str.split(\" \",expand = True)\n",
    "tag.columns = ['tags1','tags2','tags3','tags4','tags5','tags6']\n",
    "qs = pd.concat([qs,tag],axis=1)"
   ]
  },
  {
   "cell_type": "code",
   "execution_count": 6,
   "metadata": {},
   "outputs": [
    {
     "name": "stderr",
     "output_type": "stream",
     "text": [
      "/home/zakopuro/anaconda3/envs/py37/lib/python3.7/site-packages/ipykernel_launcher.py:4: FutureWarning: Sorting because non-concatenation axis is not aligned. A future version\n",
      "of pandas will change to not sort by default.\n",
      "\n",
      "To accept the future behavior, pass 'sort=False'.\n",
      "\n",
      "To retain the current behavior and silence the warning, pass 'sort=True'.\n",
      "\n",
      "  after removing the cwd from sys.path.\n"
     ]
    }
   ],
   "source": [
    "lc['l_type_of'] = _label_encoder(lc['type_of'])\n",
    "qs = qs.rename(columns={'question_id':'content_id'})\n",
    "lc = lc.rename(columns={'lecture_id':'content_id'})\n",
    "qs_lc = pd.concat([qs,lc])"
   ]
  },
  {
   "cell_type": "code",
   "execution_count": 7,
   "metadata": {},
   "outputs": [],
   "source": [
    "train_df['shift_content_type_id'] = train_df.groupby(['user_id'])['content_type_id'].transform(lambda x: x.shift(1))"
   ]
  },
  {
   "cell_type": "code",
   "execution_count": 8,
   "metadata": {},
   "outputs": [],
   "source": [
    "train_df = train_df[train_df['answered_correctly'] != -1]"
   ]
  },
  {
   "cell_type": "code",
   "execution_count": 9,
   "metadata": {},
   "outputs": [
    {
     "name": "stderr",
     "output_type": "stream",
     "text": [
      "100%|██████████| 393656/393656 [02:19<00:00, 2827.84it/s]\n"
     ]
    }
   ],
   "source": [
    "correct_list_1 = []\n",
    "correct_list_0 = []\n",
    "correct_mean = []\n",
    "for _,data in tqdm(train_df.groupby('user_id')):\n",
    "    correct_sum_1 = 0\n",
    "    correct_sum_0 = 0\n",
    "    count = 0\n",
    "    for correct in data['answered_correctly'].shift(1):\n",
    "        correct_sum_1 += correct == 1\n",
    "        correct_sum_0 += correct == 0\n",
    "        count += 1\n",
    "        correct_list_1.append(correct_sum_1)\n",
    "        correct_list_0.append(correct_sum_0)\n",
    "        correct_mean.append(correct_sum_1/count)\n",
    "\n",
    "train_df['past_correctly_sum'] = correct_list_1\n",
    "train_df['past_not_correctly_sum'] = correct_list_0\n",
    "train_df['past_correctly_mean'] = correct_mean"
   ]
  },
  {
   "cell_type": "code",
   "execution_count": 10,
   "metadata": {},
   "outputs": [],
   "source": [
    "del correct_list_1,correct_list_0,correct_mean"
   ]
  },
  {
   "cell_type": "code",
   "execution_count": 12,
   "metadata": {},
   "outputs": [
    {
     "data": {
      "text/plain": [
       "(99271300, 14)"
      ]
     },
     "execution_count": 12,
     "metadata": {},
     "output_type": "execute_result"
    }
   ],
   "source": [
    "train_df = train_df.reset_index(drop=True)"
   ]
  },
  {
   "cell_type": "code",
   "execution_count": 13,
   "metadata": {},
   "outputs": [
    {
     "name": "stdout",
     "output_type": "stream",
     "text": [
      "Mem. usage decreased to 11893.56 Mb (30.7% reduction)\n"
     ]
    }
   ],
   "source": [
    "train_df = pd.merge(train_df,qs_lc,on='content_id',how='left')\n",
    "train_df = _reduce_mem_usage(train_df)"
   ]
  },
  {
   "cell_type": "code",
   "execution_count": 14,
   "metadata": {},
   "outputs": [],
   "source": [
    "valid_df = train_df.sample(frac=0.02,random_state=127)"
   ]
  },
  {
   "cell_type": "code",
   "execution_count": 15,
   "metadata": {},
   "outputs": [],
   "source": [
    "valid_idx = valid_df['row_id']"
   ]
  },
  {
   "cell_type": "code",
   "execution_count": 16,
   "metadata": {},
   "outputs": [],
   "source": [
    "train_df = train_df[~train_df['row_id'].isin(valid_idx)]"
   ]
  },
  {
   "cell_type": "code",
   "execution_count": 17,
   "metadata": {},
   "outputs": [],
   "source": [
    "results_c = train_df[train_df['tag'].isnull()][['content_id','answered_correctly']].groupby(['content_id']).agg(['mean'])\n",
    "results_c.columns = [\"answered_correctly_content\"]\n",
    "\n",
    "results_u = train_df[train_df['tag'].isnull()][['user_id','answered_correctly']].groupby(['user_id']).agg(['mean', 'sum'])\n",
    "results_u.columns = [\"answered_correctly_user\", 'sum']\n",
    "\n",
    "user_part_ans_mean = train_df[train_df['tag'].isnull()][['user_id','part','answered_correctly']].groupby(['user_id','part']).mean()"
   ]
  },
  {
   "cell_type": "code",
   "execution_count": 18,
   "metadata": {},
   "outputs": [],
   "source": [
    "user_part_ans_mean.columns = [\"answered_correctly_part_user\"]"
   ]
  },
  {
   "cell_type": "code",
   "execution_count": 19,
   "metadata": {},
   "outputs": [],
   "source": [
    "train_df = pd.merge(train_df, results_u, on=['user_id'], how=\"left\")\n",
    "train_df = pd.merge(train_df, results_c, on=['content_id'], how=\"left\")"
   ]
  },
  {
   "cell_type": "code",
   "execution_count": 20,
   "metadata": {},
   "outputs": [],
   "source": [
    "train_df = pd.merge(train_df, user_part_ans_mean, on=['user_id','part'], how=\"left\")"
   ]
  },
  {
   "cell_type": "code",
   "execution_count": 21,
   "metadata": {},
   "outputs": [
    {
     "name": "stdout",
     "output_type": "stream",
     "text": [
      "Mem. usage decreased to 12401.21 Mb (15.4% reduction)\n"
     ]
    }
   ],
   "source": [
    "train_df = _reduce_mem_usage(train_df)"
   ]
  },
  {
   "cell_type": "code",
   "execution_count": 22,
   "metadata": {},
   "outputs": [],
   "source": [
    "valid_df = pd.merge(valid_df, results_u, on=['user_id'], how=\"left\")\n",
    "valid_df = pd.merge(valid_df, results_c, on=['content_id'], how=\"left\")\n",
    "valid_df = pd.merge(valid_df, user_part_ans_mean, on=['user_id','part'], how=\"left\")"
   ]
  },
  {
   "cell_type": "code",
   "execution_count": 23,
   "metadata": {},
   "outputs": [
    {
     "name": "stdout",
     "output_type": "stream",
     "text": [
      "Mem. usage decreased to 253.22 Mb (15.4% reduction)\n"
     ]
    }
   ],
   "source": [
    "valid_df = _reduce_mem_usage(valid_df)"
   ]
  },
  {
   "cell_type": "code",
   "execution_count": 24,
   "metadata": {},
   "outputs": [],
   "source": [
    "del results_c,results_u,user_part_ans_mean"
   ]
  },
  {
   "cell_type": "code",
   "execution_count": 26,
   "metadata": {},
   "outputs": [],
   "source": [
    "SEED = 42\n",
    "EARLY_STOP = 50\n",
    "VERBOSE = 10"
   ]
  },
  {
   "cell_type": "code",
   "execution_count": 27,
   "metadata": {},
   "outputs": [],
   "source": [
    "from sklearn.metrics import roc_auc_score\n",
    "\n",
    "lgb_params = {\n",
    "    'n_estimators': 24000,\n",
    "    'objective': 'binary',\n",
    "    'boosting_type': 'gbdt',\n",
    "    'metric': 'auc', \n",
    "    'max_depth': 7,\n",
    "    'learning_rate': 0.08,\n",
    "    'seed': SEED,\n",
    "    'early_stopping_rounds': EARLY_STOP\n",
    "}\n",
    "\n",
    "def fit_lgb(params, Xt, Yt, Xv, Yv):\n",
    "    # prepare datasets\n",
    "    cat_feature = ['prior_question_had_explanation','shift_content_type_id','tags1','tags2','tags3','tags4','tags5','tags6','part']\n",
    "    #'content_id','task_container_id',user_id\n",
    "#     drop_feature = ['row_id','content_type_id','user_answer']\n",
    "#     Xt = Xt.drop(drop_feature,axis=1)\n",
    "#     Xv = Xv.drop(drop_feature,axis=1)\n",
    "    \n",
    "    lgb_train = lgb.Dataset(Xt, Yt)\n",
    "    lgb_eval = lgb.Dataset(Xv, Yv)\n",
    "    # fit\n",
    "    model = lgb.train(params, lgb_train, valid_sets=[lgb_train, lgb_eval], verbose_eval=VERBOSE,categorical_feature=cat_feature)\n",
    "    \n",
    "    # predict\n",
    "    val_pred = model.predict(Xv)\n",
    "    del Xv\n",
    "    \n",
    "    # CV score\n",
    "    score = roc_auc_score(Yv, val_pred)\n",
    "    print(f\"AUC = {score}\")\n",
    "    \n",
    "    # feature importance\n",
    "    fi = pd.DataFrame()\n",
    "    fi['features'] = Xt.columns.values.tolist()\n",
    "    fi['importance'] = model.feature_importance(importance_type=\"gain\")\n",
    "    \n",
    "    return model, fi"
   ]
  },
  {
   "cell_type": "code",
   "execution_count": 28,
   "metadata": {},
   "outputs": [],
   "source": [
    "train_df_2 = train_df.sample(frac=0.08,random_state=127)"
   ]
  },
  {
   "cell_type": "code",
   "execution_count": 43,
   "metadata": {},
   "outputs": [],
   "source": [
    "drop_cols = ['row_id','user_id','user_answer','answered_correctly','l_type_of','type_of','tag','tags','correct_answer']"
   ]
  },
  {
   "cell_type": "code",
   "execution_count": 44,
   "metadata": {},
   "outputs": [],
   "source": [
    "train_y = train_df_2[[\"answered_correctly\"]]\n",
    "valid_y = valid_df[[\"answered_correctly\"]]\n",
    "# valid_x = val_df.drop([\"answered_correctly\"], axis=1)"
   ]
  },
  {
   "cell_type": "code",
   "execution_count": 45,
   "metadata": {},
   "outputs": [],
   "source": [
    "train_x = train_df_2.drop(drop_cols, axis=1)\n",
    "valid_x = valid_df.drop(drop_cols, axis=1)"
   ]
  },
  {
   "cell_type": "code",
   "execution_count": 46,
   "metadata": {},
   "outputs": [],
   "source": [
    "train_x.loc[train_x['prior_question_had_explanation'] == False , 'prior_question_had_explanation'] = 0\n",
    "train_x.loc[train_x['prior_question_had_explanation'] == True , 'prior_question_had_explanation'] = 1\n",
    "\n",
    "valid_x.loc[valid_x['prior_question_had_explanation'] == False , 'prior_question_had_explanation'] = 0\n",
    "valid_x.loc[valid_x['prior_question_had_explanation'] == True , 'prior_question_had_explanation'] = 1"
   ]
  },
  {
   "cell_type": "code",
   "execution_count": 47,
   "metadata": {},
   "outputs": [],
   "source": [
    "train_x['prior_question_had_explanation'] = train_x['prior_question_had_explanation'].astype(float)\n",
    "valid_x['prior_question_had_explanation'] = valid_x['prior_question_had_explanation'].astype(float)"
   ]
  },
  {
   "cell_type": "code",
   "execution_count": 48,
   "metadata": {},
   "outputs": [],
   "source": [
    "for i in range(1,7):\n",
    "    train_x[f'tags{i}'] = train_x[f'tags{i}'].astype(float)\n",
    "    valid_x[f'tags{i}'] = valid_x[f'tags{i}'].astype(float)"
   ]
  },
  {
   "cell_type": "code",
   "execution_count": 49,
   "metadata": {},
   "outputs": [],
   "source": [
    "# del train_df,val_df"
   ]
  },
  {
   "cell_type": "code",
   "execution_count": 50,
   "metadata": {},
   "outputs": [
    {
     "name": "stdout",
     "output_type": "stream",
     "text": [
      "Mem. usage decreased to 435.92 Mb (42.0% reduction)\n",
      "Mem. usage decreased to 111.26 Mb (42.0% reduction)\n"
     ]
    }
   ],
   "source": [
    "train_x = _reduce_mem_usage(train_x)\n",
    "valid_x = _reduce_mem_usage(valid_x)"
   ]
  },
  {
   "cell_type": "code",
   "execution_count": 51,
   "metadata": {},
   "outputs": [
    {
     "name": "stderr",
     "output_type": "stream",
     "text": [
      "/home/zakopuro/anaconda3/envs/py37/lib/python3.7/site-packages/lightgbm/engine.py:148: UserWarning: Found `n_estimators` in params. Will use it instead of argument\n",
      "  warnings.warn(\"Found `{}` in params. Will use it instead of argument\".format(alias))\n",
      "/home/zakopuro/anaconda3/envs/py37/lib/python3.7/site-packages/lightgbm/engine.py:153: UserWarning: Found `early_stopping_rounds` in params. Will use it instead of argument\n",
      "  warnings.warn(\"Found `{}` in params. Will use it instead of argument\".format(alias))\n",
      "/home/zakopuro/anaconda3/envs/py37/lib/python3.7/site-packages/lightgbm/basic.py:1247: UserWarning: categorical_feature in Dataset is overridden.\n",
      "New categorical_feature is ['part', 'prior_question_had_explanation', 'shift_content_type_id', 'tags1', 'tags2', 'tags3', 'tags4', 'tags5', 'tags6']\n",
      "  'New categorical_feature is {}'.format(sorted(list(categorical_feature))))\n"
     ]
    },
    {
     "name": "stdout",
     "output_type": "stream",
     "text": [
      "Training until validation scores don't improve for 50 rounds\n",
      "[10]\ttraining's auc: 0.76385\tvalid_1's auc: 0.746972\n",
      "[20]\ttraining's auc: 0.766373\tvalid_1's auc: 0.749202\n",
      "[30]\ttraining's auc: 0.768014\tvalid_1's auc: 0.749882\n",
      "[40]\ttraining's auc: 0.769317\tvalid_1's auc: 0.750549\n",
      "[50]\ttraining's auc: 0.770273\tvalid_1's auc: 0.750701\n",
      "[60]\ttraining's auc: 0.770987\tvalid_1's auc: 0.751058\n",
      "[70]\ttraining's auc: 0.771573\tvalid_1's auc: 0.751369\n",
      "[80]\ttraining's auc: 0.772032\tvalid_1's auc: 0.751602\n",
      "[90]\ttraining's auc: 0.772422\tvalid_1's auc: 0.751778\n",
      "[100]\ttraining's auc: 0.772708\tvalid_1's auc: 0.751919\n",
      "[110]\ttraining's auc: 0.772962\tvalid_1's auc: 0.752025\n",
      "[120]\ttraining's auc: 0.77323\tvalid_1's auc: 0.752078\n",
      "[130]\ttraining's auc: 0.773444\tvalid_1's auc: 0.752175\n",
      "[140]\ttraining's auc: 0.773635\tvalid_1's auc: 0.752231\n",
      "[150]\ttraining's auc: 0.77383\tvalid_1's auc: 0.752276\n",
      "[160]\ttraining's auc: 0.774014\tvalid_1's auc: 0.752299\n",
      "[170]\ttraining's auc: 0.774172\tvalid_1's auc: 0.75232\n",
      "[180]\ttraining's auc: 0.774319\tvalid_1's auc: 0.752347\n",
      "[190]\ttraining's auc: 0.774474\tvalid_1's auc: 0.752381\n",
      "[200]\ttraining's auc: 0.774633\tvalid_1's auc: 0.752413\n",
      "[210]\ttraining's auc: 0.774765\tvalid_1's auc: 0.752443\n",
      "[220]\ttraining's auc: 0.774894\tvalid_1's auc: 0.752489\n",
      "[230]\ttraining's auc: 0.774995\tvalid_1's auc: 0.752525\n",
      "[240]\ttraining's auc: 0.775072\tvalid_1's auc: 0.752548\n",
      "[250]\ttraining's auc: 0.775176\tvalid_1's auc: 0.752558\n",
      "[260]\ttraining's auc: 0.77529\tvalid_1's auc: 0.752556\n",
      "[270]\ttraining's auc: 0.775388\tvalid_1's auc: 0.752561\n",
      "[280]\ttraining's auc: 0.775481\tvalid_1's auc: 0.752583\n",
      "[290]\ttraining's auc: 0.775587\tvalid_1's auc: 0.752607\n",
      "[300]\ttraining's auc: 0.775677\tvalid_1's auc: 0.752633\n",
      "[310]\ttraining's auc: 0.775732\tvalid_1's auc: 0.752636\n",
      "[320]\ttraining's auc: 0.775796\tvalid_1's auc: 0.752631\n",
      "[330]\ttraining's auc: 0.775864\tvalid_1's auc: 0.752655\n",
      "[340]\ttraining's auc: 0.775944\tvalid_1's auc: 0.752641\n",
      "[350]\ttraining's auc: 0.776039\tvalid_1's auc: 0.752657\n",
      "[360]\ttraining's auc: 0.776114\tvalid_1's auc: 0.75265\n",
      "[370]\ttraining's auc: 0.77616\tvalid_1's auc: 0.752667\n",
      "[380]\ttraining's auc: 0.776247\tvalid_1's auc: 0.752694\n",
      "[390]\ttraining's auc: 0.776307\tvalid_1's auc: 0.752707\n",
      "[400]\ttraining's auc: 0.776356\tvalid_1's auc: 0.752721\n",
      "[410]\ttraining's auc: 0.776419\tvalid_1's auc: 0.752738\n",
      "[420]\ttraining's auc: 0.776483\tvalid_1's auc: 0.75273\n",
      "[430]\ttraining's auc: 0.776539\tvalid_1's auc: 0.752747\n",
      "[440]\ttraining's auc: 0.776607\tvalid_1's auc: 0.752764\n",
      "[450]\ttraining's auc: 0.776657\tvalid_1's auc: 0.752757\n",
      "[460]\ttraining's auc: 0.77672\tvalid_1's auc: 0.752771\n",
      "[470]\ttraining's auc: 0.77678\tvalid_1's auc: 0.75278\n",
      "[480]\ttraining's auc: 0.776829\tvalid_1's auc: 0.752783\n",
      "[490]\ttraining's auc: 0.776896\tvalid_1's auc: 0.752794\n",
      "[500]\ttraining's auc: 0.77695\tvalid_1's auc: 0.752812\n",
      "[510]\ttraining's auc: 0.777001\tvalid_1's auc: 0.752821\n",
      "[520]\ttraining's auc: 0.777069\tvalid_1's auc: 0.75282\n",
      "[530]\ttraining's auc: 0.777121\tvalid_1's auc: 0.752834\n",
      "[540]\ttraining's auc: 0.777197\tvalid_1's auc: 0.752825\n",
      "[550]\ttraining's auc: 0.777269\tvalid_1's auc: 0.752837\n",
      "[560]\ttraining's auc: 0.777347\tvalid_1's auc: 0.75285\n",
      "[570]\ttraining's auc: 0.777412\tvalid_1's auc: 0.75288\n",
      "[580]\ttraining's auc: 0.777475\tvalid_1's auc: 0.752887\n",
      "[590]\ttraining's auc: 0.777533\tvalid_1's auc: 0.752891\n",
      "[600]\ttraining's auc: 0.777585\tvalid_1's auc: 0.752905\n",
      "[610]\ttraining's auc: 0.777628\tvalid_1's auc: 0.752911\n",
      "[620]\ttraining's auc: 0.777687\tvalid_1's auc: 0.752934\n",
      "[630]\ttraining's auc: 0.777746\tvalid_1's auc: 0.752949\n",
      "[640]\ttraining's auc: 0.777786\tvalid_1's auc: 0.752954\n",
      "[650]\ttraining's auc: 0.77783\tvalid_1's auc: 0.752969\n",
      "[660]\ttraining's auc: 0.777903\tvalid_1's auc: 0.752955\n",
      "[670]\ttraining's auc: 0.77796\tvalid_1's auc: 0.752952\n",
      "[680]\ttraining's auc: 0.777999\tvalid_1's auc: 0.752949\n",
      "[690]\ttraining's auc: 0.778045\tvalid_1's auc: 0.752953\n",
      "[700]\ttraining's auc: 0.778105\tvalid_1's auc: 0.752948\n",
      "Early stopping, best iteration is:\n",
      "[652]\ttraining's auc: 0.777851\tvalid_1's auc: 0.75297\n",
      "AUC = 0.752969745953045\n"
     ]
    }
   ],
   "source": [
    "lgb_model, fi = fit_lgb(lgb_params, train_x, train_y, valid_x, valid_y)"
   ]
  },
  {
   "cell_type": "code",
   "execution_count": 52,
   "metadata": {},
   "outputs": [
    {
     "data": {
      "text/plain": [
       "<matplotlib.axes._subplots.AxesSubplot at 0x7f8f28dfc950>"
      ]
     },
     "execution_count": 52,
     "metadata": {},
     "output_type": "execute_result"
    },
    {
     "data": {
      "image/png": "[encoded data removed]",
      "text/plain": [
       "<Figure size 432x288 with 1 Axes>"
      ]
     },
     "metadata": {
      "needs_background": "light"
     },
     "output_type": "display_data"
    }
   ],
   "source": [
    "sns.barplot(x='importance', y='features', data=fi.sort_values(by='importance', ascending=False))"
   ]
  },
  {
   "cell_type": "code",
   "execution_count": 53,
   "metadata": {},
   "outputs": [],
   "source": [
    "import pickle"
   ]
  },
  {
   "cell_type": "code",
   "execution_count": 54,
   "metadata": {},
   "outputs": [],
   "source": [
    "with open('../models/01_lgbm.pkl','wb') as f:\n",
    "    pickle.dump(lgb_model,f)"
   ]
  },
  {
   "cell_type": "code",
   "execution_count": 55,
   "metadata": {},
   "outputs": [
    {
     "data": {
      "text/html": [
       "<div>\n",
       "<style scoped>\n",
       "    .dataframe tbody tr th:only-of-type {\n",
       "        vertical-align: middle;\n",
       "    }\n",
       "\n",
       "    .dataframe tbody tr th {\n",
       "        vertical-align: top;\n",
       "    }\n",
       "\n",
       "    .dataframe thead th {\n",
       "        text-align: right;\n",
       "    }\n",
       "</style>\n",
       "<table border=\"1\" class=\"dataframe\">\n",
       "  <thead>\n",
       "    <tr style=\"text-align: right;\">\n",
       "      <th></th>\n",
       "      <th>timestamp</th>\n",
       "      <th>content_id</th>\n",
       "      <th>content_type_id</th>\n",
       "      <th>task_container_id</th>\n",
       "      <th>prior_question_elapsed_time</th>\n",
       "      <th>prior_question_had_explanation</th>\n",
       "      <th>shift_content_type_id</th>\n",
       "      <th>past_correctly_sum</th>\n",
       "      <th>past_not_correctly_sum</th>\n",
       "      <th>past_correctly_mean</th>\n",
       "      <th>bundle_id</th>\n",
       "      <th>part</th>\n",
       "      <th>tags1</th>\n",
       "      <th>tags2</th>\n",
       "      <th>tags3</th>\n",
       "      <th>tags4</th>\n",
       "      <th>tags5</th>\n",
       "      <th>tags6</th>\n",
       "      <th>answered_correctly_user</th>\n",
       "      <th>sum</th>\n",
       "      <th>answered_correctly_content</th>\n",
       "      <th>answered_correctly_part_user</th>\n",
       "    </tr>\n",
       "  </thead>\n",
       "  <tbody>\n",
       "    <tr>\n",
       "      <th>70973313</th>\n",
       "      <td>49046706</td>\n",
       "      <td>756</td>\n",
       "      <td>0</td>\n",
       "      <td>31</td>\n",
       "      <td>24000.0</td>\n",
       "      <td>1.0</td>\n",
       "      <td>0.0</td>\n",
       "      <td>18</td>\n",
       "      <td>27</td>\n",
       "      <td>0.391357</td>\n",
       "      <td>756.0</td>\n",
       "      <td>2</td>\n",
       "      <td>143.0</td>\n",
       "      <td>114.0</td>\n",
       "      <td>38.0</td>\n",
       "      <td>81.0</td>\n",
       "      <td>NaN</td>\n",
       "      <td>NaN</td>\n",
       "      <td>0.721191</td>\n",
       "      <td>880.0</td>\n",
       "      <td>0.546387</td>\n",
       "      <td>0.375000</td>\n",
       "    </tr>\n",
       "    <tr>\n",
       "      <th>30255081</th>\n",
       "      <td>38717846221</td>\n",
       "      <td>5250</td>\n",
       "      <td>0</td>\n",
       "      <td>2159</td>\n",
       "      <td>34000.0</td>\n",
       "      <td>1.0</td>\n",
       "      <td>0.0</td>\n",
       "      <td>1261</td>\n",
       "      <td>1210</td>\n",
       "      <td>0.510254</td>\n",
       "      <td>5248.0</td>\n",
       "      <td>5</td>\n",
       "      <td>170.0</td>\n",
       "      <td>NaN</td>\n",
       "      <td>NaN</td>\n",
       "      <td>NaN</td>\n",
       "      <td>NaN</td>\n",
       "      <td>NaN</td>\n",
       "      <td>0.508301</td>\n",
       "      <td>1328.0</td>\n",
       "      <td>0.516602</td>\n",
       "      <td>0.464111</td>\n",
       "    </tr>\n",
       "    <tr>\n",
       "      <th>13897792</th>\n",
       "      <td>10088946038</td>\n",
       "      <td>5303</td>\n",
       "      <td>0</td>\n",
       "      <td>289</td>\n",
       "      <td>6000.0</td>\n",
       "      <td>1.0</td>\n",
       "      <td>0.0</td>\n",
       "      <td>288</td>\n",
       "      <td>143</td>\n",
       "      <td>0.666504</td>\n",
       "      <td>5304.0</td>\n",
       "      <td>5</td>\n",
       "      <td>60.0</td>\n",
       "      <td>NaN</td>\n",
       "      <td>NaN</td>\n",
       "      <td>NaN</td>\n",
       "      <td>NaN</td>\n",
       "      <td>NaN</td>\n",
       "      <td>0.654785</td>\n",
       "      <td>999.0</td>\n",
       "      <td>0.907227</td>\n",
       "      <td>0.652344</td>\n",
       "    </tr>\n",
       "    <tr>\n",
       "      <th>50797792</th>\n",
       "      <td>31188068746</td>\n",
       "      <td>734</td>\n",
       "      <td>0</td>\n",
       "      <td>1864</td>\n",
       "      <td>20000.0</td>\n",
       "      <td>1.0</td>\n",
       "      <td>0.0</td>\n",
       "      <td>2097</td>\n",
       "      <td>893</td>\n",
       "      <td>0.701172</td>\n",
       "      <td>734.0</td>\n",
       "      <td>2</td>\n",
       "      <td>138.0</td>\n",
       "      <td>41.0</td>\n",
       "      <td>92.0</td>\n",
       "      <td>102.0</td>\n",
       "      <td>NaN</td>\n",
       "      <td>NaN</td>\n",
       "      <td>0.693359</td>\n",
       "      <td>2262.0</td>\n",
       "      <td>0.655273</td>\n",
       "      <td>0.713379</td>\n",
       "    </tr>\n",
       "    <tr>\n",
       "      <th>80187457</th>\n",
       "      <td>21778159429</td>\n",
       "      <td>2948</td>\n",
       "      <td>0</td>\n",
       "      <td>6</td>\n",
       "      <td>27000.0</td>\n",
       "      <td>0.0</td>\n",
       "      <td>0.0</td>\n",
       "      <td>8</td>\n",
       "      <td>4</td>\n",
       "      <td>0.615234</td>\n",
       "      <td>2946.0</td>\n",
       "      <td>4</td>\n",
       "      <td>136.0</td>\n",
       "      <td>67.0</td>\n",
       "      <td>92.0</td>\n",
       "      <td>NaN</td>\n",
       "      <td>NaN</td>\n",
       "      <td>NaN</td>\n",
       "      <td>0.604492</td>\n",
       "      <td>26.0</td>\n",
       "      <td>0.219849</td>\n",
       "      <td>0.666504</td>\n",
       "    </tr>\n",
       "    <tr>\n",
       "      <th>...</th>\n",
       "      <td>...</td>\n",
       "      <td>...</td>\n",
       "      <td>...</td>\n",
       "      <td>...</td>\n",
       "      <td>...</td>\n",
       "      <td>...</td>\n",
       "      <td>...</td>\n",
       "      <td>...</td>\n",
       "      <td>...</td>\n",
       "      <td>...</td>\n",
       "      <td>...</td>\n",
       "      <td>...</td>\n",
       "      <td>...</td>\n",
       "      <td>...</td>\n",
       "      <td>...</td>\n",
       "      <td>...</td>\n",
       "      <td>...</td>\n",
       "      <td>...</td>\n",
       "      <td>...</td>\n",
       "      <td>...</td>\n",
       "      <td>...</td>\n",
       "      <td>...</td>\n",
       "    </tr>\n",
       "    <tr>\n",
       "      <th>3783482</th>\n",
       "      <td>41378447131</td>\n",
       "      <td>9176</td>\n",
       "      <td>0</td>\n",
       "      <td>974</td>\n",
       "      <td>114000.0</td>\n",
       "      <td>1.0</td>\n",
       "      <td>0.0</td>\n",
       "      <td>726</td>\n",
       "      <td>286</td>\n",
       "      <td>0.716797</td>\n",
       "      <td>9176.0</td>\n",
       "      <td>5</td>\n",
       "      <td>89.0</td>\n",
       "      <td>NaN</td>\n",
       "      <td>NaN</td>\n",
       "      <td>NaN</td>\n",
       "      <td>NaN</td>\n",
       "      <td>NaN</td>\n",
       "      <td>0.714844</td>\n",
       "      <td>759.0</td>\n",
       "      <td>0.500000</td>\n",
       "      <td>0.719238</td>\n",
       "    </tr>\n",
       "    <tr>\n",
       "      <th>24097630</th>\n",
       "      <td>41048441052</td>\n",
       "      <td>2082</td>\n",
       "      <td>0</td>\n",
       "      <td>173</td>\n",
       "      <td>37000.0</td>\n",
       "      <td>1.0</td>\n",
       "      <td>0.0</td>\n",
       "      <td>253</td>\n",
       "      <td>87</td>\n",
       "      <td>0.741699</td>\n",
       "      <td>2080.0</td>\n",
       "      <td>3</td>\n",
       "      <td>136.0</td>\n",
       "      <td>81.0</td>\n",
       "      <td>92.0</td>\n",
       "      <td>NaN</td>\n",
       "      <td>NaN</td>\n",
       "      <td>NaN</td>\n",
       "      <td>0.737793</td>\n",
       "      <td>549.0</td>\n",
       "      <td>0.978027</td>\n",
       "      <td>0.758789</td>\n",
       "    </tr>\n",
       "    <tr>\n",
       "      <th>95473131</th>\n",
       "      <td>28702442810</td>\n",
       "      <td>4123</td>\n",
       "      <td>0</td>\n",
       "      <td>251</td>\n",
       "      <td>33000.0</td>\n",
       "      <td>1.0</td>\n",
       "      <td>0.0</td>\n",
       "      <td>235</td>\n",
       "      <td>150</td>\n",
       "      <td>0.608887</td>\n",
       "      <td>4124.0</td>\n",
       "      <td>5</td>\n",
       "      <td>177.0</td>\n",
       "      <td>NaN</td>\n",
       "      <td>NaN</td>\n",
       "      <td>NaN</td>\n",
       "      <td>NaN</td>\n",
       "      <td>NaN</td>\n",
       "      <td>0.582520</td>\n",
       "      <td>363.0</td>\n",
       "      <td>0.731934</td>\n",
       "      <td>0.716797</td>\n",
       "    </tr>\n",
       "    <tr>\n",
       "      <th>91514055</th>\n",
       "      <td>16308616471</td>\n",
       "      <td>8157</td>\n",
       "      <td>0</td>\n",
       "      <td>6221</td>\n",
       "      <td>72000.0</td>\n",
       "      <td>1.0</td>\n",
       "      <td>0.0</td>\n",
       "      <td>6427</td>\n",
       "      <td>2226</td>\n",
       "      <td>0.742676</td>\n",
       "      <td>8152.0</td>\n",
       "      <td>7</td>\n",
       "      <td>98.0</td>\n",
       "      <td>84.0</td>\n",
       "      <td>97.0</td>\n",
       "      <td>135.0</td>\n",
       "      <td>162.0</td>\n",
       "      <td>NaN</td>\n",
       "      <td>0.729004</td>\n",
       "      <td>6952.0</td>\n",
       "      <td>0.664062</td>\n",
       "      <td>0.757324</td>\n",
       "    </tr>\n",
       "    <tr>\n",
       "      <th>5578995</th>\n",
       "      <td>17607884821</td>\n",
       "      <td>3859</td>\n",
       "      <td>0</td>\n",
       "      <td>1590</td>\n",
       "      <td>20000.0</td>\n",
       "      <td>1.0</td>\n",
       "      <td>0.0</td>\n",
       "      <td>1462</td>\n",
       "      <td>743</td>\n",
       "      <td>0.662598</td>\n",
       "      <td>3860.0</td>\n",
       "      <td>5</td>\n",
       "      <td>43.0</td>\n",
       "      <td>NaN</td>\n",
       "      <td>NaN</td>\n",
       "      <td>NaN</td>\n",
       "      <td>NaN</td>\n",
       "      <td>NaN</td>\n",
       "      <td>0.660156</td>\n",
       "      <td>1541.0</td>\n",
       "      <td>0.336426</td>\n",
       "      <td>0.632324</td>\n",
       "    </tr>\n",
       "  </tbody>\n",
       "</table>\n",
       "<p>7880978 rows × 22 columns</p>\n",
       "</div>"
      ],
      "text/plain": [
       "            timestamp  content_id  content_type_id  task_container_id  \\\n",
       "70973313     49046706         756                0                 31   \n",
       "30255081  38717846221        5250                0               2159   \n",
       "13897792  10088946038        5303                0                289   \n",
       "50797792  31188068746         734                0               1864   \n",
       "80187457  21778159429        2948                0                  6   \n",
       "...               ...         ...              ...                ...   \n",
       "3783482   41378447131        9176                0                974   \n",
       "24097630  41048441052        2082                0                173   \n",
       "95473131  28702442810        4123                0                251   \n",
       "91514055  16308616471        8157                0               6221   \n",
       "5578995   17607884821        3859                0               1590   \n",
       "\n",
       "          prior_question_elapsed_time  prior_question_had_explanation  \\\n",
       "70973313                      24000.0                             1.0   \n",
       "30255081                      34000.0                             1.0   \n",
       "13897792                       6000.0                             1.0   \n",
       "50797792                      20000.0                             1.0   \n",
       "80187457                      27000.0                             0.0   \n",
       "...                               ...                             ...   \n",
       "3783482                      114000.0                             1.0   \n",
       "24097630                      37000.0                             1.0   \n",
       "95473131                      33000.0                             1.0   \n",
       "91514055                      72000.0                             1.0   \n",
       "5578995                       20000.0                             1.0   \n",
       "\n",
       "          shift_content_type_id  past_correctly_sum  past_not_correctly_sum  \\\n",
       "70973313                    0.0                  18                      27   \n",
       "30255081                    0.0                1261                    1210   \n",
       "13897792                    0.0                 288                     143   \n",
       "50797792                    0.0                2097                     893   \n",
       "80187457                    0.0                   8                       4   \n",
       "...                         ...                 ...                     ...   \n",
       "3783482                     0.0                 726                     286   \n",
       "24097630                    0.0                 253                      87   \n",
       "95473131                    0.0                 235                     150   \n",
       "91514055                    0.0                6427                    2226   \n",
       "5578995                     0.0                1462                     743   \n",
       "\n",
       "          past_correctly_mean  bundle_id  part  tags1  tags2  tags3  tags4  \\\n",
       "70973313             0.391357      756.0     2  143.0  114.0   38.0   81.0   \n",
       "30255081             0.510254     5248.0     5  170.0    NaN    NaN    NaN   \n",
       "13897792             0.666504     5304.0     5   60.0    NaN    NaN    NaN   \n",
       "50797792             0.701172      734.0     2  138.0   41.0   92.0  102.0   \n",
       "80187457             0.615234     2946.0     4  136.0   67.0   92.0    NaN   \n",
       "...                       ...        ...   ...    ...    ...    ...    ...   \n",
       "3783482              0.716797     9176.0     5   89.0    NaN    NaN    NaN   \n",
       "24097630             0.741699     2080.0     3  136.0   81.0   92.0    NaN   \n",
       "95473131             0.608887     4124.0     5  177.0    NaN    NaN    NaN   \n",
       "91514055             0.742676     8152.0     7   98.0   84.0   97.0  135.0   \n",
       "5578995              0.662598     3860.0     5   43.0    NaN    NaN    NaN   \n",
       "\n",
       "          tags5  tags6  answered_correctly_user     sum  \\\n",
       "70973313    NaN    NaN                 0.721191   880.0   \n",
       "30255081    NaN    NaN                 0.508301  1328.0   \n",
       "13897792    NaN    NaN                 0.654785   999.0   \n",
       "50797792    NaN    NaN                 0.693359  2262.0   \n",
       "80187457    NaN    NaN                 0.604492    26.0   \n",
       "...         ...    ...                      ...     ...   \n",
       "3783482     NaN    NaN                 0.714844   759.0   \n",
       "24097630    NaN    NaN                 0.737793   549.0   \n",
       "95473131    NaN    NaN                 0.582520   363.0   \n",
       "91514055  162.0    NaN                 0.729004  6952.0   \n",
       "5578995     NaN    NaN                 0.660156  1541.0   \n",
       "\n",
       "          answered_correctly_content  answered_correctly_part_user  \n",
       "70973313                    0.546387                      0.375000  \n",
       "30255081                    0.516602                      0.464111  \n",
       "13897792                    0.907227                      0.652344  \n",
       "50797792                    0.655273                      0.713379  \n",
       "80187457                    0.219849                      0.666504  \n",
       "...                              ...                           ...  \n",
       "3783482                     0.500000                      0.719238  \n",
       "24097630                    0.978027                      0.758789  \n",
       "95473131                    0.731934                      0.716797  \n",
       "91514055                    0.664062                      0.757324  \n",
       "5578995                     0.336426                      0.632324  \n",
       "\n",
       "[7880978 rows x 22 columns]"
      ]
     },
     "execution_count": 55,
     "metadata": {},
     "output_type": "execute_result"
    }
   ],
   "source": [
    "train_x"
   ]
  },
  {
   "cell_type": "code",
   "execution_count": 42,
   "metadata": {},
   "outputs": [
    {
     "data": {
      "text/plain": [
       "(7880978, 23)"
      ]
     },
     "execution_count": 42,
     "metadata": {},
     "output_type": "execute_result"
    }
   ],
   "source": [
    "train_x.shape"
   ]
  },
  {
   "cell_type": "code",
   "execution_count": null,
   "metadata": {},
   "outputs": [],
   "source": []
  }
 ],
 "metadata": {
  "kernelspec": {
   "display_name": "Python 3.7.7 64-bit ('py37': conda)",
   "language": "python",
   "name": "python37764bitpy37condac438fa9116eb4f54846f41f6ddae733f"
  },
  "language_info": {
   "codemirror_mode": {
    "name": "ipython",
    "version": 3
   },
   "file_extension": ".py",
   "mimetype": "text/x-python",
   "name": "python",
   "nbconvert_exporter": "python",
   "pygments_lexer": "ipython3",
   "version": "3.7.7"
  }
 },
 "nbformat": 4,
 "nbformat_minor": 4
}
