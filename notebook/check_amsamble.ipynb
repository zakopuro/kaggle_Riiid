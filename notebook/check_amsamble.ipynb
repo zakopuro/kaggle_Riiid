{
 "cells": [
  {
   "cell_type": "code",
   "execution_count": 2,
   "metadata": {},
   "outputs": [],
   "source": [
    "import pandas as pd\n",
    "import matplotlib.pyplot as plt\n",
    "import seaborn as sns\n",
    "import numpy as np\n",
    "from tqdm import tqdm\n",
    "import seaborn as sns\n",
    "pd.set_option('display.max_columns',None)\n",
    "from sklearn.metrics import roc_auc_score\n",
    "import pickle\n",
    "TARGET = 'answered_correctly'"
   ]
  },
  {
   "cell_type": "code",
   "execution_count": 3,
   "metadata": {},
   "outputs": [],
   "source": [
    "# with open('../models/101_simple_lgb.pkl','rb') as f:\n",
    "#     model1 = pickle.load(f)\n",
    "pred1 = pd.read_feather('../data/oof/101_simple_lgb.feather')\n",
    "pred2 = pd.read_feather('../data/oof/103_last_lgb.feather')\n",
    "pred3 = pd.read_feather('../data/oof/104_last_lgb.feather')"
   ]
  },
  {
   "cell_type": "code",
   "execution_count": 4,
   "metadata": {},
   "outputs": [],
   "source": [
    "df = pd.read_feather('../features/all_data/BASE_FIX_valid.feather')"
   ]
  },
  {
   "cell_type": "code",
   "execution_count": 5,
   "metadata": {},
   "outputs": [],
   "source": [
    "pred1.columns = ['row_id','pred1']\n",
    "pred2.columns = ['row_id','pred2']\n",
    "pred3.columns = ['row_id','pred3']\n",
    "df = df[[TARGET]]\n",
    "\n",
    "df = pd.concat([df,pred1['pred1'],pred2['pred2'],pred3['pred3']],axis=1)"
   ]
  },
  {
   "cell_type": "code",
   "execution_count": 7,
   "metadata": {},
   "outputs": [
    {
     "data": {
      "text/plain": [
       "0.7906350845180423"
      ]
     },
     "execution_count": 7,
     "metadata": {},
     "output_type": "execute_result"
    }
   ],
   "source": [
    "roc_auc_score(df[TARGET],df['pred1']*2)"
   ]
  },
  {
   "cell_type": "code",
   "execution_count": 21,
   "metadata": {},
   "outputs": [
    {
     "data": {
      "text/plain": [
       "0.7904026782773977"
      ]
     },
     "execution_count": 21,
     "metadata": {},
     "output_type": "execute_result"
    }
   ],
   "source": [
    "roc_auc_score(df[TARGET],df['pred2']*2)"
   ]
  },
  {
   "cell_type": "code",
   "execution_count": 8,
   "metadata": {},
   "outputs": [
    {
     "data": {
      "text/plain": [
       "0.7905755630346007"
      ]
     },
     "execution_count": 8,
     "metadata": {},
     "output_type": "execute_result"
    }
   ],
   "source": [
    "roc_auc_score(df[TARGET],df['pred3']*2)"
   ]
  },
  {
   "cell_type": "code",
   "execution_count": 22,
   "metadata": {},
   "outputs": [
    {
     "data": {
      "text/plain": [
       "0.791016440421306"
      ]
     },
     "execution_count": 22,
     "metadata": {},
     "output_type": "execute_result"
    }
   ],
   "source": [
    "roc_auc_score(df[TARGET],df['pred1']*1.1+df['pred3'])"
   ]
  },
  {
   "cell_type": "code",
   "execution_count": 25,
   "metadata": {},
   "outputs": [
    {
     "data": {
      "text/plain": [
       "0.791016440421306"
      ]
     },
     "execution_count": 25,
     "metadata": {},
     "output_type": "execute_result"
    }
   ],
   "source": [
    "roc_auc_score(df[TARGET],df['pred1']*1.1+df['pred3'])"
   ]
  },
  {
   "cell_type": "code",
   "execution_count": null,
   "metadata": {},
   "outputs": [],
   "source": [
    "roc_auc_score(df[TARGET],df['pred1']+df['pred2']*0.8)"
   ]
  },
  {
   "cell_type": "code",
   "execution_count": null,
   "metadata": {},
   "outputs": [],
   "source": []
  },
  {
   "cell_type": "code",
   "execution_count": 5,
   "metadata": {},
   "outputs": [],
   "source": [
    "USE_COLS = ['prior_question_elapsed_time', 'prior_question_had_explanation', 'part','timestamp',\n",
    "            'ans_user_avg', 'ans_user_count','elapsed_time_user_avg', 'explanation_user_avg','elapsed_time_user_sum',\n",
    "            'ans_content_avg', 'elapsed_time_content_avg', 'explanation_content_avg',\n",
    "            'user_content_count',\n",
    "            'lag_time_1', 'lag_time_2', 'lag_time_3','lag_incorrect_time',\n",
    "            'lag_part_time_1','lag_part_time_2','lag_part_time_3',\n",
    "            \"tags_pca_0\", \"tags_pca_1\",'tags1','tags2','tags3','tags_nan_count','tags_nan_count_mean','tags1_cut_mean','tags1_cut',\n",
    "            'first_bundle',\n",
    "            'ans_part_mean','ans_user_part_avg','user_part_count',\n",
    "            'ans_community_mean','community',\n",
    "            'content_id','bundle_id',\n",
    "            'first_bundle_cut','first_bundle_cut_mean',\n",
    "            'rolling_mean_10','rolling_mean_3','rolling_part_mean_10','rolling_part_mean_3',\n",
    "            'tags_mean','tags_elapsed_time_avg','tags_explanation_avg']"
   ]
  },
  {
   "cell_type": "code",
   "execution_count": 6,
   "metadata": {},
   "outputs": [],
   "source": [
    "def load_features(features_list,path,train_valid):\n",
    "\n",
    "    dfs = [pd.read_feather(f'../{path}/{feature}_{train_valid}.feather') for feature in features_list]\n",
    "    df = pd.concat(dfs,axis=1)\n",
    "    return df"
   ]
  },
  {
   "cell_type": "code",
   "execution_count": 7,
   "metadata": {},
   "outputs": [],
   "source": [
    "path = 'all_data'\n",
    "FEATURES_LIST = ['BASE_FIX','LOOP_FIX_TIME5','TAGS','GROUP_BY','BUNDLE_ID','ROLLING_MEAN2','ROLLING_PART_MEAN3','CONTENT_ID','TAGS_MEAN']\n",
    "valid = load_features(FEATURES_LIST,path=f'features/{path}',train_valid='valid')"
   ]
  },
  {
   "cell_type": "code",
   "execution_count": null,
   "metadata": {},
   "outputs": [],
   "source": [
    "valid['pred1'] = model1.predict(valid[USE_COLS])\n",
    "valid['pred2'] = model2.predict(valid[USE_COLS])"
   ]
  },
  {
   "cell_type": "code",
   "execution_count": 14,
   "metadata": {},
   "outputs": [
    {
     "data": {
      "text/plain": [
       "0.7848071122915671"
      ]
     },
     "execution_count": 14,
     "metadata": {},
     "output_type": "execute_result"
    }
   ],
   "source": [
    "roc_auc_score(valid[TARGET],valid['pred1'])"
   ]
  },
  {
   "cell_type": "code",
   "execution_count": 15,
   "metadata": {},
   "outputs": [
    {
     "data": {
      "text/plain": [
       "0.7846245795206664"
      ]
     },
     "execution_count": 15,
     "metadata": {},
     "output_type": "execute_result"
    }
   ],
   "source": [
    "roc_auc_score(valid[TARGET],valid['pred2'])"
   ]
  },
  {
   "cell_type": "code",
   "execution_count": 21,
   "metadata": {},
   "outputs": [
    {
     "data": {
      "text/plain": [
       "0.7889486913660605"
      ]
     },
     "execution_count": 21,
     "metadata": {},
     "output_type": "execute_result"
    }
   ],
   "source": [
    "roc_auc_score(valid[TARGET],valid['pred1']+valid['pred3']*10)"
   ]
  },
  {
   "cell_type": "code",
   "execution_count": null,
   "metadata": {},
   "outputs": [],
   "source": []
  },
  {
   "cell_type": "code",
   "execution_count": null,
   "metadata": {},
   "outputs": [],
   "source": []
  },
  {
   "cell_type": "code",
   "execution_count": null,
   "metadata": {},
   "outputs": [],
   "source": []
  },
  {
   "cell_type": "code",
   "execution_count": 2,
   "metadata": {},
   "outputs": [],
   "source": [
    "val = pd.read_feather('../features/kernel_base/BASE_FIX_valid.feather')\n",
    "oof1 = pd.read_feather('../data/oof/064_simple_lgb.feather')\n",
    "oof2 = pd.read_feather('../data/oof/065_simple_lgb.feather')\n",
    "# oof3 = pd.read_feather('../data/oof/060_simple_lgb.feather')"
   ]
  },
  {
   "cell_type": "code",
   "execution_count": 3,
   "metadata": {},
   "outputs": [],
   "source": [
    "oof1.columns = ['row_id','pred1']\n",
    "oof2.columns = ['row_id','pred2']\n",
    "# oof3.columns = ['row_id','pred3']"
   ]
  },
  {
   "cell_type": "code",
   "execution_count": 4,
   "metadata": {},
   "outputs": [],
   "source": [
    "df = pd.concat([val,oof1['pred1'],oof2['pred2']],axis=1)"
   ]
  },
  {
   "cell_type": "code",
   "execution_count": 14,
   "metadata": {},
   "outputs": [],
   "source": [
    "df['pred'] = df['pred1'] + df['pred2']*1.5"
   ]
  },
  {
   "cell_type": "code",
   "execution_count": 15,
   "metadata": {},
   "outputs": [
    {
     "data": {
      "text/plain": [
       "0.7843040247864422"
      ]
     },
     "execution_count": 15,
     "metadata": {},
     "output_type": "execute_result"
    }
   ],
   "source": [
    "roc_auc_score(df[TARGET],df['pred'])"
   ]
  },
  {
   "cell_type": "code",
   "execution_count": null,
   "metadata": {},
   "outputs": [],
   "source": []
  }
 ],
 "metadata": {
  "kernelspec": {
   "display_name": "Python 3.7.7 64-bit ('py37': conda)",
   "language": "python",
   "name": "python37764bitpy37condac438fa9116eb4f54846f41f6ddae733f"
  },
  "language_info": {
   "codemirror_mode": {
    "name": "ipython",
    "version": 3
   },
   "file_extension": ".py",
   "mimetype": "text/x-python",
   "name": "python",
   "nbconvert_exporter": "python",
   "pygments_lexer": "ipython3",
   "version": "3.7.7"
  }
 },
 "nbformat": 4,
 "nbformat_minor": 4
}
